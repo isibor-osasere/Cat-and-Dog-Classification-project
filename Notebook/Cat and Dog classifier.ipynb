{
 "cells": [
  {
   "cell_type": "markdown",
   "id": "83a44b8c",
   "metadata": {},
   "source": [
    "## Importing required models"
   ]
  },
  {
   "cell_type": "code",
   "execution_count": 1,
   "id": "bb029b41",
   "metadata": {},
   "outputs": [],
   "source": [
    "import numpy as np\n",
    "import pandas as pd\n",
    "import matplotlib as mlp\n",
    "import matplotlib.pyplot as plt\n",
    "import os\n",
    "import tensorflow as tf\n",
    "from tensorflow import keras\n",
    "from tensorflow.keras import layers\n",
    "from tensorflow.keras import models\n",
    "from tensorflow.keras.preprocessing.image import ImageDataGenerator\n",
    "from tensorflow.keras import backend as k "
   ]
  },
  {
   "cell_type": "markdown",
   "id": "5ef34da0",
   "metadata": {},
   "source": [
    "### GETTING IMAGES ADDRESSES\n"
   ]
  },
  {
   "cell_type": "code",
   "execution_count": 2,
   "id": "853caa00",
   "metadata": {},
   "outputs": [],
   "source": [
    "train_dir = 'C:/Users/USER/osasere data science/DATAs/train'\n",
    "test_dir = 'C:/Users/USER/osasere data science/DATAs/test'\n",
    "valid_dir = 'C:/Users/USER/osasere data science/DATAs/validation'"
   ]
  },
  {
   "cell_type": "markdown",
   "id": "5115ac76",
   "metadata": {},
   "source": [
    "\n",
    "\n",
    "### PREPARING IMAGE DATA\n",
    "1. read the picture files\n",
    "2. convert the JPEG image to (150, 150) RGB grid of pixels\n",
    "3. rescale the pixels values from (0 - 255) to (0 - 1)"
   ]
  },
  {
   "cell_type": "code",
   "execution_count": 3,
   "id": "2675569c",
   "metadata": {},
   "outputs": [
    {
     "name": "stdout",
     "output_type": "stream",
     "text": [
      "Found 2000 images belonging to 2 classes.\n",
      "Found 1000 images belonging to 2 classes.\n"
     ]
    }
   ],
   "source": [
    "train_datagen = ImageDataGenerator (rescale = 1./255)\n",
    "test_datagen = ImageDataGenerator (rescale = 1./255)\n",
    "\n",
    "train_generator = train_datagen.flow_from_directory (train_dir, target_size = (150, 150), batch_size = 20, class_mode = \"binary\")\n",
    "validation_generator = test_datagen.flow_from_directory (valid_dir, target_size = (150, 150), batch_size = 20, class_mode = \"binary\")\n"
   ]
  },
  {
   "cell_type": "markdown",
   "id": "5f53090c",
   "metadata": {},
   "source": [
    "\n",
    "CNN MODEL ACHITECTURE WITH 4 CONV LAYERS"
   ]
  },
  {
   "cell_type": "code",
   "execution_count": 4,
   "id": "da6f471f",
   "metadata": {},
   "outputs": [],
   "source": [
    "model = models.Sequential ()\n",
    "model.add (layers.Conv2D (filters = 32, kernel_size = (3, 3), activation = \"relu\", input_shape = (150, 150, 3)))\n",
    "model.add (layers.MaxPooling2D ((2, 2)))\n",
    "\n",
    "model.add (layers.Conv2D (filters = 64, kernel_size = (3, 3), activation = \"relu\"))\n",
    "model.add (layers.MaxPooling2D ((2, 2)))\n",
    "\n",
    "model.add (layers.Conv2D (128, (3, 3), activation = \"relu\"))\n",
    "model.add (layers.MaxPooling2D ((2, 2)))\n",
    "\n",
    "model.add (layers.Conv2D (128, (3, 3), activation = \"relu\"))\n",
    "model.add (layers.MaxPooling2D ((2, 2)))\n",
    "\n",
    "\n",
    "model.add (layers.Flatten ())\n",
    "model.add (layers.Dense (512, activation = \"relu\"))\n",
    "model.add (layers.Dense (1, activation = \"sigmoid\"))"
   ]
  },
  {
   "cell_type": "markdown",
   "id": "8bb9f959",
   "metadata": {},
   "source": [
    "### TRAINING CNN MODEL\n",
    "1. we are to use RMSprop optimizer because RMSprop optimizer work better than SGD for image classification"
   ]
  },
  {
   "cell_type": "code",
   "execution_count": 6,
   "id": "375d2a9d",
   "metadata": {},
   "outputs": [
    {
     "name": "stdout",
     "output_type": "stream",
     "text": [
      "Epoch 1/20\n",
      "100/100 [==============================] - 138s 1s/step - loss: 0.0865 - acc: 0.9790 - val_loss: 7.7167 - val_acc: 0.6570\n",
      "Epoch 2/20\n",
      "100/100 [==============================] - 136s 1s/step - loss: 0.1398 - acc: 0.9770 - val_loss: 1.1999 - val_acc: 0.7120\n",
      "Epoch 3/20\n",
      "100/100 [==============================] - 136s 1s/step - loss: 0.0527 - acc: 0.9880 - val_loss: 1.7945 - val_acc: 0.7630\n",
      "Epoch 4/20\n",
      "100/100 [==============================] - 136s 1s/step - loss: 0.0459 - acc: 0.9900 - val_loss: 2.2780 - val_acc: 0.7440\n",
      "Epoch 5/20\n",
      "100/100 [==============================] - 135s 1s/step - loss: 0.0713 - acc: 0.9820 - val_loss: 2.1163 - val_acc: 0.7250\n",
      "Epoch 6/20\n",
      "100/100 [==============================] - 134s 1s/step - loss: 0.0409 - acc: 0.9940 - val_loss: 2.6086 - val_acc: 0.7530\n",
      "Epoch 7/20\n",
      "100/100 [==============================] - 134s 1s/step - loss: 0.0609 - acc: 0.9835 - val_loss: 2.2589 - val_acc: 0.7430\n",
      "Epoch 8/20\n",
      "100/100 [==============================] - 135s 1s/step - loss: 0.0936 - acc: 0.9820 - val_loss: 1.6570 - val_acc: 0.7390\n",
      "Epoch 9/20\n",
      "100/100 [==============================] - 134s 1s/step - loss: 0.0478 - acc: 0.9860 - val_loss: 2.0339 - val_acc: 0.7460\n",
      "Epoch 10/20\n",
      "100/100 [==============================] - 134s 1s/step - loss: 0.0425 - acc: 0.9895 - val_loss: 2.5206 - val_acc: 0.7430\n",
      "Epoch 11/20\n",
      "100/100 [==============================] - 135s 1s/step - loss: 0.0730 - acc: 0.9845 - val_loss: 2.2527 - val_acc: 0.7300\n",
      "Epoch 12/20\n",
      "100/100 [==============================] - 134s 1s/step - loss: 0.0781 - acc: 0.9825 - val_loss: 1.5061 - val_acc: 0.7400\n",
      "Epoch 13/20\n",
      "100/100 [==============================] - 134s 1s/step - loss: 0.0473 - acc: 0.9865 - val_loss: 2.2965 - val_acc: 0.6890\n",
      "Epoch 14/20\n",
      "100/100 [==============================] - 134s 1s/step - loss: 0.0516 - acc: 0.9880 - val_loss: 3.7898 - val_acc: 0.7060\n",
      "Epoch 15/20\n",
      "100/100 [==============================] - 134s 1s/step - loss: 0.0486 - acc: 0.9900 - val_loss: 3.2172 - val_acc: 0.7420\n",
      "Epoch 16/20\n",
      "100/100 [==============================] - 134s 1s/step - loss: 0.0755 - acc: 0.9885 - val_loss: 2.8449 - val_acc: 0.6750\n",
      "Epoch 17/20\n",
      "100/100 [==============================] - 134s 1s/step - loss: 0.0989 - acc: 0.9845 - val_loss: 3.0222 - val_acc: 0.7210\n",
      "Epoch 18/20\n",
      "100/100 [==============================] - 135s 1s/step - loss: 0.0347 - acc: 0.9925 - val_loss: 3.6611 - val_acc: 0.7390\n",
      "Epoch 19/20\n",
      "100/100 [==============================] - 134s 1s/step - loss: 0.1088 - acc: 0.9820 - val_loss: 2.6519 - val_acc: 0.7120\n",
      "Epoch 20/20\n",
      "100/100 [==============================] - 134s 1s/step - loss: 0.0592 - acc: 0.9860 - val_loss: 3.4055 - val_acc: 0.7340\n"
     ]
    }
   ],
   "source": [
    "model.compile (loss = \"binary_crossentropy\", optimizer = keras.optimizers.RMSprop (lr = 0.001), metrics = \"acc\")\n",
    "model_history = model.fit_generator (train_generator, steps_per_epoch = 100, epochs = 20, validation_data = validation_generator, validation_steps = 50)"
   ]
  },
  {
   "cell_type": "markdown",
   "id": "fe98ec1a",
   "metadata": {},
   "source": [
    "PLOTTING TRAINED MODEL PERFORMANCE"
   ]
  },
  {
   "cell_type": "code",
   "execution_count": 11,
   "id": "3ba1ca13",
   "metadata": {},
   "outputs": [
    {
     "data": {
      "image/png": "[encoded data removed]",
      "text/plain": [
       "<Figure size 576x360 with 1 Axes>"
      ]
     },
     "metadata": {
      "needs_background": "light"
     },
     "output_type": "display_data"
    }
   ],
   "source": [
    "pd.DataFrame (model_history.history).plot (figsize = (8, 5))\n",
    "plt.gca().set_ylim(0, 1)\n",
    "plt.grid (True)\n",
    "plt.show ()"
   ]
  },
  {
   "cell_type": "markdown",
   "id": "1ada5724",
   "metadata": {},
   "source": [
    "since there is a huge difference in validation accuracy and trained accuracy there is overfitting in our data to remove the overfitting we use DATA AUGMENTATION"
   ]
  },
  {
   "cell_type": "code",
   "execution_count": 15,
   "id": "545cb4de",
   "metadata": {},
   "outputs": [],
   "source": [
    "model.save (\"cat-dog-model1.h5\")\n"
   ]
  },
  {
   "cell_type": "code",
   "execution_count": 33,
   "id": "3abdf954",
   "metadata": {},
   "outputs": [],
   "source": [
    "k.clear_session ()\n",
    "del model"
   ]
  },
  {
   "cell_type": "markdown",
   "id": "31eb0a31",
   "metadata": {},
   "source": [
    "### DATA AUGMENTATION\n",
    "1. data augmentation is the process of creating dummy images from our original images to increase the number of trained dataset\n",
    "2. data augmentation is done only in the train dataset"
   ]
  },
  {
   "cell_type": "code",
   "execution_count": 4,
   "id": "d8b263ad",
   "metadata": {},
   "outputs": [
    {
     "name": "stdout",
     "output_type": "stream",
     "text": [
      "Found 2000 images belonging to 2 classes.\n",
      "Found 1000 images belonging to 2 classes.\n"
     ]
    }
   ],
   "source": [
    "train_datagen = ImageDataGenerator (rescale = 1./255, rotation_range = 40,\n",
    "                                    width_shift_range = 0.2, height_shift_range = 0.2,\n",
    "                                    shear_range = 0.2, zoom_range = 0.2, \n",
    "                                    horizontal_flip = True,)\n",
    "\n",
    "test_datagen = ImageDataGenerator (rescale = 1./255)\n",
    "\n",
    "train_generator = train_datagen.flow_from_directory (train_dir, target_size = (150, 150), batch_size = 20, class_mode = \"binary\")\n",
    "\n",
    "valid_generator = test_datagen.flow_from_directory (valid_dir, target_size = (150, 150), batch_size = 20, class_mode = \"binary\")\n"
   ]
  },
  {
   "cell_type": "markdown",
   "id": "52de28fc",
   "metadata": {},
   "source": [
    "### CNN MODEL ACHITECTURE WITH 4 CONV LAYERS AND A DROPOUT NEURON LAYER\n",
    "1. DROPOUT is an effective method to avoid overfitting in our model"
   ]
  },
  {
   "cell_type": "code",
   "execution_count": 6,
   "id": "52171808",
   "metadata": {},
   "outputs": [
    {
     "ename": "TypeError",
     "evalue": "('Keyword argument not understood:', 'activatiwdon')",
     "output_type": "error",
     "traceback": [
      "\u001b[1;31m---------------------------------------------------------------------------\u001b[0m",
      "\u001b[1;31mTypeError\u001b[0m                                 Traceback (most recent call last)",
      "\u001b[1;32m~\\AppData\\Local\\Temp/ipykernel_10932/349665225.py\u001b[0m in \u001b[0;36m<module>\u001b[1;34m\u001b[0m\n\u001b[0;32m      9\u001b[0m \u001b[0mmodel\u001b[0m\u001b[1;33m.\u001b[0m\u001b[0madd\u001b[0m \u001b[1;33m(\u001b[0m\u001b[0mlayers\u001b[0m\u001b[1;33m.\u001b[0m\u001b[0mMaxPooling2D\u001b[0m \u001b[1;33m(\u001b[0m\u001b[1;33m(\u001b[0m\u001b[1;36m2\u001b[0m\u001b[1;33m,\u001b[0m \u001b[1;36m2\u001b[0m\u001b[1;33m)\u001b[0m\u001b[1;33m)\u001b[0m\u001b[1;33m)\u001b[0m\u001b[1;33m\u001b[0m\u001b[1;33m\u001b[0m\u001b[0m\n\u001b[0;32m     10\u001b[0m \u001b[1;33m\u001b[0m\u001b[0m\n\u001b[1;32m---> 11\u001b[1;33m \u001b[0mmodel\u001b[0m\u001b[1;33m.\u001b[0m\u001b[0madd\u001b[0m \u001b[1;33m(\u001b[0m\u001b[0mlayers\u001b[0m\u001b[1;33m.\u001b[0m\u001b[0mConv2D\u001b[0m \u001b[1;33m(\u001b[0m\u001b[1;36m128\u001b[0m\u001b[1;33m,\u001b[0m \u001b[1;33m(\u001b[0m\u001b[1;36m3\u001b[0m\u001b[1;33m,\u001b[0m \u001b[1;36m3\u001b[0m\u001b[1;33m)\u001b[0m\u001b[1;33m,\u001b[0m \u001b[0mactivatiwdon\u001b[0m \u001b[1;33m=\u001b[0m \u001b[1;34m\"relu\"\u001b[0m\u001b[1;33m)\u001b[0m\u001b[1;33m)\u001b[0m\u001b[1;33m\u001b[0m\u001b[1;33m\u001b[0m\u001b[0m\n\u001b[0m\u001b[0;32m     12\u001b[0m \u001b[0mmodel\u001b[0m\u001b[1;33m.\u001b[0m\u001b[0madd\u001b[0m \u001b[1;33m(\u001b[0m\u001b[0mlayers\u001b[0m\u001b[1;33m.\u001b[0m\u001b[0mMaxPooling2D\u001b[0m \u001b[1;33m(\u001b[0m\u001b[1;33m(\u001b[0m\u001b[1;36m2\u001b[0m\u001b[1;33m,\u001b[0m \u001b[1;36m2\u001b[0m\u001b[1;33m)\u001b[0m\u001b[1;33m)\u001b[0m\u001b[1;33m)\u001b[0m\u001b[1;33m\u001b[0m\u001b[1;33m\u001b[0m\u001b[0m\n\u001b[0;32m     13\u001b[0m \u001b[1;33m\u001b[0m\u001b[0m\n",
      "\u001b[1;32m~\\anaconda3\\lib\\site-packages\\keras\\layers\\convolutional.py\u001b[0m in \u001b[0;36m__init__\u001b[1;34m(self, filters, kernel_size, strides, padding, data_format, dilation_rate, groups, activation, use_bias, kernel_initializer, bias_initializer, kernel_regularizer, bias_regularizer, activity_regularizer, kernel_constraint, bias_constraint, **kwargs)\u001b[0m\n\u001b[0;32m    658\u001b[0m                \u001b[0mbias_constraint\u001b[0m\u001b[1;33m=\u001b[0m\u001b[1;32mNone\u001b[0m\u001b[1;33m,\u001b[0m\u001b[1;33m\u001b[0m\u001b[1;33m\u001b[0m\u001b[0m\n\u001b[0;32m    659\u001b[0m                **kwargs):\n\u001b[1;32m--> 660\u001b[1;33m     super(Conv2D, self).__init__(\n\u001b[0m\u001b[0;32m    661\u001b[0m         \u001b[0mrank\u001b[0m\u001b[1;33m=\u001b[0m\u001b[1;36m2\u001b[0m\u001b[1;33m,\u001b[0m\u001b[1;33m\u001b[0m\u001b[1;33m\u001b[0m\u001b[0m\n\u001b[0;32m    662\u001b[0m         \u001b[0mfilters\u001b[0m\u001b[1;33m=\u001b[0m\u001b[0mfilters\u001b[0m\u001b[1;33m,\u001b[0m\u001b[1;33m\u001b[0m\u001b[1;33m\u001b[0m\u001b[0m\n",
      "\u001b[1;32m~\\anaconda3\\lib\\site-packages\\keras\\layers\\convolutional.py\u001b[0m in \u001b[0;36m__init__\u001b[1;34m(self, rank, filters, kernel_size, strides, padding, data_format, dilation_rate, groups, activation, use_bias, kernel_initializer, bias_initializer, kernel_regularizer, bias_regularizer, activity_regularizer, kernel_constraint, bias_constraint, trainable, name, conv_op, **kwargs)\u001b[0m\n\u001b[0;32m    124\u001b[0m                \u001b[0mconv_op\u001b[0m\u001b[1;33m=\u001b[0m\u001b[1;32mNone\u001b[0m\u001b[1;33m,\u001b[0m\u001b[1;33m\u001b[0m\u001b[1;33m\u001b[0m\u001b[0m\n\u001b[0;32m    125\u001b[0m                **kwargs):\n\u001b[1;32m--> 126\u001b[1;33m     super(Conv, self).__init__(\n\u001b[0m\u001b[0;32m    127\u001b[0m         \u001b[0mtrainable\u001b[0m\u001b[1;33m=\u001b[0m\u001b[0mtrainable\u001b[0m\u001b[1;33m,\u001b[0m\u001b[1;33m\u001b[0m\u001b[1;33m\u001b[0m\u001b[0m\n\u001b[0;32m    128\u001b[0m         \u001b[0mname\u001b[0m\u001b[1;33m=\u001b[0m\u001b[0mname\u001b[0m\u001b[1;33m,\u001b[0m\u001b[1;33m\u001b[0m\u001b[1;33m\u001b[0m\u001b[0m\n",
      "\u001b[1;32m~\\AppData\\Roaming\\Python\\Python39\\site-packages\\tensorflow\\python\\training\\tracking\\base.py\u001b[0m in \u001b[0;36m_method_wrapper\u001b[1;34m(self, *args, **kwargs)\u001b[0m\n\u001b[0;32m    528\u001b[0m     \u001b[0mself\u001b[0m\u001b[1;33m.\u001b[0m\u001b[0m_self_setattr_tracking\u001b[0m \u001b[1;33m=\u001b[0m \u001b[1;32mFalse\u001b[0m  \u001b[1;31m# pylint: disable=protected-access\u001b[0m\u001b[1;33m\u001b[0m\u001b[1;33m\u001b[0m\u001b[0m\n\u001b[0;32m    529\u001b[0m     \u001b[1;32mtry\u001b[0m\u001b[1;33m:\u001b[0m\u001b[1;33m\u001b[0m\u001b[1;33m\u001b[0m\u001b[0m\n\u001b[1;32m--> 530\u001b[1;33m       \u001b[0mresult\u001b[0m \u001b[1;33m=\u001b[0m \u001b[0mmethod\u001b[0m\u001b[1;33m(\u001b[0m\u001b[0mself\u001b[0m\u001b[1;33m,\u001b[0m \u001b[1;33m*\u001b[0m\u001b[0margs\u001b[0m\u001b[1;33m,\u001b[0m \u001b[1;33m**\u001b[0m\u001b[0mkwargs\u001b[0m\u001b[1;33m)\u001b[0m\u001b[1;33m\u001b[0m\u001b[1;33m\u001b[0m\u001b[0m\n\u001b[0m\u001b[0;32m    531\u001b[0m     \u001b[1;32mfinally\u001b[0m\u001b[1;33m:\u001b[0m\u001b[1;33m\u001b[0m\u001b[1;33m\u001b[0m\u001b[0m\n\u001b[0;32m    532\u001b[0m       \u001b[0mself\u001b[0m\u001b[1;33m.\u001b[0m\u001b[0m_self_setattr_tracking\u001b[0m \u001b[1;33m=\u001b[0m \u001b[0mprevious_value\u001b[0m  \u001b[1;31m# pylint: disable=protected-access\u001b[0m\u001b[1;33m\u001b[0m\u001b[1;33m\u001b[0m\u001b[0m\n",
      "\u001b[1;32m~\\anaconda3\\lib\\site-packages\\keras\\engine\\base_layer.py\u001b[0m in \u001b[0;36m__init__\u001b[1;34m(self, trainable, name, dtype, dynamic, **kwargs)\u001b[0m\n\u001b[0;32m    321\u001b[0m     }\n\u001b[0;32m    322\u001b[0m     \u001b[1;31m# Validate optional keyword arguments.\u001b[0m\u001b[1;33m\u001b[0m\u001b[1;33m\u001b[0m\u001b[0m\n\u001b[1;32m--> 323\u001b[1;33m     \u001b[0mgeneric_utils\u001b[0m\u001b[1;33m.\u001b[0m\u001b[0mvalidate_kwargs\u001b[0m\u001b[1;33m(\u001b[0m\u001b[0mkwargs\u001b[0m\u001b[1;33m,\u001b[0m \u001b[0mallowed_kwargs\u001b[0m\u001b[1;33m)\u001b[0m\u001b[1;33m\u001b[0m\u001b[1;33m\u001b[0m\u001b[0m\n\u001b[0m\u001b[0;32m    324\u001b[0m \u001b[1;33m\u001b[0m\u001b[0m\n\u001b[0;32m    325\u001b[0m     \u001b[1;31m# Mutable properties\u001b[0m\u001b[1;33m\u001b[0m\u001b[1;33m\u001b[0m\u001b[0m\n",
      "\u001b[1;32m~\\anaconda3\\lib\\site-packages\\keras\\utils\\generic_utils.py\u001b[0m in \u001b[0;36mvalidate_kwargs\u001b[1;34m(kwargs, allowed_kwargs, error_message)\u001b[0m\n\u001b[0;32m   1141\u001b[0m   \u001b[1;32mfor\u001b[0m \u001b[0mkwarg\u001b[0m \u001b[1;32min\u001b[0m \u001b[0mkwargs\u001b[0m\u001b[1;33m:\u001b[0m\u001b[1;33m\u001b[0m\u001b[1;33m\u001b[0m\u001b[0m\n\u001b[0;32m   1142\u001b[0m     \u001b[1;32mif\u001b[0m \u001b[0mkwarg\u001b[0m \u001b[1;32mnot\u001b[0m \u001b[1;32min\u001b[0m \u001b[0mallowed_kwargs\u001b[0m\u001b[1;33m:\u001b[0m\u001b[1;33m\u001b[0m\u001b[1;33m\u001b[0m\u001b[0m\n\u001b[1;32m-> 1143\u001b[1;33m       \u001b[1;32mraise\u001b[0m \u001b[0mTypeError\u001b[0m\u001b[1;33m(\u001b[0m\u001b[0merror_message\u001b[0m\u001b[1;33m,\u001b[0m \u001b[0mkwarg\u001b[0m\u001b[1;33m)\u001b[0m\u001b[1;33m\u001b[0m\u001b[1;33m\u001b[0m\u001b[0m\n\u001b[0m\u001b[0;32m   1144\u001b[0m \u001b[1;33m\u001b[0m\u001b[0m\n\u001b[0;32m   1145\u001b[0m \u001b[1;33m\u001b[0m\u001b[0m\n",
      "\u001b[1;31mTypeError\u001b[0m: ('Keyword argument not understood:', 'activatiwdon')"
     ]
    }
   ],
   "source": [
    "model = models.Sequential ()\n",
    "model.add (layers.Conv2D (filters = 32, kernel_size = (3, 3), activation = \"relu\", input_shape = (150, 150, 3)))\n",
    "model.add (layers.MaxPooling2D ((2, 2)))\n",
    "\n",
    "model.add (layers.Conv2D (filters = 64, kernel_size = (3, 3), activation = \"relu\"))\n",
    "model.add (layers.MaxPooling2D ((2, 2)))\n",
    "\n",
    "model.add (layers.Conv2D (128, (3, 3), activation = \"relu\"))\n",
    "model.add (layers.MaxPooling2D ((2, 2)))\n",
    "\n",
    "model.add (layers.Conv2D (128, (3, 3), activation = \"relu\"))\n",
    "model.add (layers.MaxPooling2D ((2, 2)))\n",
    "\n",
    "\n",
    "model.add (layers.Flatten ())\n",
    "model.add (layers.Dropout (0.5))\n",
    "model.add (layers.Dense (512, activation = \"relu\"))\n",
    "model.add (layers.Dense (1, activation = \"sigmoid\"))"
   ]
  },
  {
   "cell_type": "markdown",
   "id": "7f14f429",
   "metadata": {},
   "source": [
    "### TRAINING AUGMENTED DATA_SET"
   ]
  },
  {
   "cell_type": "code",
   "execution_count": 13,
   "id": "aa556270",
   "metadata": {},
   "outputs": [
    {
     "name": "stdout",
     "output_type": "stream",
     "text": [
      "Epoch 1/20\n",
      "100/100 [==============================] - 192s 2s/step - loss: 0.7178 - acc: 0.5215 - val_loss: 0.6865 - val_acc: 0.5800\n",
      "Epoch 2/20\n",
      "100/100 [==============================] - 189s 2s/step - loss: 0.6985 - acc: 0.5170 - val_loss: 0.6785 - val_acc: 0.6110\n",
      "Epoch 3/20\n",
      "100/100 [==============================] - 190s 2s/step - loss: 0.6918 - acc: 0.5780 - val_loss: 0.6948 - val_acc: 0.5460\n",
      "Epoch 4/20\n",
      "100/100 [==============================] - 192s 2s/step - loss: 0.6658 - acc: 0.6105 - val_loss: 0.6425 - val_acc: 0.5950\n",
      "Epoch 5/20\n",
      "100/100 [==============================] - 194s 2s/step - loss: 0.6745 - acc: 0.6160 - val_loss: 0.6363 - val_acc: 0.6280\n",
      "Epoch 6/20\n",
      "100/100 [==============================] - 192s 2s/step - loss: 0.6531 - acc: 0.6420 - val_loss: 0.6495 - val_acc: 0.6140\n",
      "Epoch 7/20\n",
      "100/100 [==============================] - 188s 2s/step - loss: 0.6365 - acc: 0.6355 - val_loss: 0.6031 - val_acc: 0.6520\n",
      "Epoch 8/20\n",
      "100/100 [==============================] - 187s 2s/step - loss: 0.6238 - acc: 0.6560 - val_loss: 0.9224 - val_acc: 0.5630\n",
      "Epoch 9/20\n",
      "100/100 [==============================] - 190s 2s/step - loss: 0.6240 - acc: 0.6770 - val_loss: 0.5857 - val_acc: 0.6990\n",
      "Epoch 10/20\n",
      "100/100 [==============================] - 193s 2s/step - loss: 0.6157 - acc: 0.6670 - val_loss: 0.7469 - val_acc: 0.6140\n",
      "Epoch 11/20\n",
      "100/100 [==============================] - 34297s 346s/step - loss: 0.6101 - acc: 0.6745 - val_loss: 0.5549 - val_acc: 0.7080\n",
      "Epoch 12/20\n",
      "100/100 [==============================] - 144s 1s/step - loss: 0.6117 - acc: 0.6655 - val_loss: 0.5582 - val_acc: 0.7130\n",
      "Epoch 13/20\n",
      "100/100 [==============================] - 140s 1s/step - loss: 0.5861 - acc: 0.7035 - val_loss: 0.5502 - val_acc: 0.7130\n",
      "Epoch 14/20\n",
      "100/100 [==============================] - 139s 1s/step - loss: 0.6031 - acc: 0.6755 - val_loss: 0.5474 - val_acc: 0.7340\n",
      "Epoch 15/20\n",
      "100/100 [==============================] - 140s 1s/step - loss: 0.5818 - acc: 0.7085 - val_loss: 0.5419 - val_acc: 0.7050\n",
      "Epoch 16/20\n",
      "100/100 [==============================] - 140s 1s/step - loss: 0.5839 - acc: 0.7075 - val_loss: 0.5410 - val_acc: 0.7200\n",
      "Epoch 17/20\n",
      "100/100 [==============================] - 140s 1s/step - loss: 0.5852 - acc: 0.6965 - val_loss: 0.5772 - val_acc: 0.6820\n",
      "Epoch 18/20\n",
      "100/100 [==============================] - 140s 1s/step - loss: 0.5689 - acc: 0.7025 - val_loss: 0.5341 - val_acc: 0.7300\n",
      "Epoch 19/20\n",
      "100/100 [==============================] - 140s 1s/step - loss: 0.5719 - acc: 0.7155 - val_loss: 0.5932 - val_acc: 0.6540\n",
      "Epoch 20/20\n",
      "100/100 [==============================] - 139s 1s/step - loss: 0.5581 - acc: 0.7245 - val_loss: 0.5869 - val_acc: 0.7050\n"
     ]
    },
    {
     "data": {
      "text/plain": [
       "<keras.callbacks.History at 0x2dabea32790>"
      ]
     },
     "execution_count": 13,
     "metadata": {},
     "output_type": "execute_result"
    }
   ],
   "source": [
    "model.compile (loss = \"binary_crossentropy\", optimizer = keras.optimizers.RMSprop (lr = 0.001), metrics = \"acc\")\n",
    "model.fit_generator (train_generator, steps_per_epoch = 100, epochs = 20, validation_data = validation_generator, validation_steps = 50)"
   ]
  },
  {
   "cell_type": "markdown",
   "id": "8be540f4",
   "metadata": {},
   "source": [
    "### PLOTTING TRAINED AUGMENTED DATASET"
   ]
  },
  {
   "cell_type": "code",
   "execution_count": 19,
   "id": "b8ca32df",
   "metadata": {},
   "outputs": [
    {
     "data": {
      "image/png": "[encoded data removed]",
      "text/plain": [
       "<Figure size 576x360 with 1 Axes>"
      ]
     },
     "metadata": {
      "needs_background": "light"
     },
     "output_type": "display_data"
    }
   ],
   "source": [
    "pd.DataFrame (model.history.history).plot (figsize = (8, 5))\n",
    "plt.grid (True)\n",
    "plt.gca().set_ylim(0, 1)\n",
    "plt.show ()"
   ]
  },
  {
   "cell_type": "code",
   "execution_count": 20,
   "id": "7fdc55af",
   "metadata": {},
   "outputs": [],
   "source": [
    "model.save (\"augmented-cat-dog-model.h5\")"
   ]
  },
  {
   "cell_type": "code",
   "execution_count": 15,
   "id": "a3b585a7",
   "metadata": {},
   "outputs": [
    {
     "ename": "NameError",
     "evalue": "name 'model' is not defined",
     "output_type": "error",
     "traceback": [
      "\u001b[1;31m---------------------------------------------------------------------------\u001b[0m",
      "\u001b[1;31mNameError\u001b[0m                                 Traceback (most recent call last)",
      "\u001b[1;32m~\\AppData\\Local\\Temp/ipykernel_10932/459861397.py\u001b[0m in \u001b[0;36m<module>\u001b[1;34m\u001b[0m\n\u001b[0;32m      1\u001b[0m \u001b[0mk\u001b[0m\u001b[1;33m.\u001b[0m\u001b[0mclear_session\u001b[0m \u001b[1;33m(\u001b[0m\u001b[1;33m)\u001b[0m\u001b[1;33m\u001b[0m\u001b[1;33m\u001b[0m\u001b[0m\n\u001b[1;32m----> 2\u001b[1;33m \u001b[1;32mdel\u001b[0m \u001b[0mmodel\u001b[0m\u001b[1;33m\u001b[0m\u001b[1;33m\u001b[0m\u001b[0m\n\u001b[0m",
      "\u001b[1;31mNameError\u001b[0m: name 'model' is not defined"
     ]
    }
   ],
   "source": [
    "k.clear_session ()\n",
    "del model"
   ]
  },
  {
   "cell_type": "markdown",
   "id": "37a95e54",
   "metadata": {},
   "source": [
    "### TRANSFER LEARNING CAN FURTHER INCREASE THE MODEL PERFORMANCE"
   ]
  },
  {
   "cell_type": "code",
   "execution_count": 5,
   "id": "60400ee8",
   "metadata": {},
   "outputs": [
    {
     "name": "stdout",
     "output_type": "stream",
     "text": [
      "Found 2000 images belonging to 2 classes.\n",
      "Found 1000 images belonging to 2 classes.\n"
     ]
    }
   ],
   "source": [
    "train_datagen = ImageDataGenerator (rescale = 1./255, rotation_range = 40,\n",
    "                                    width_shift_range = 0.2, height_shift_range = 0.2,\n",
    "                                    shear_range = 0.2, zoom_range = 0.2, \n",
    "                                    horizontal_flip = True,)\n",
    "\n",
    "test_datagen = ImageDataGenerator (rescale = 1./255)\n",
    "\n",
    "train_generator = train_datagen.flow_from_directory (train_dir, target_size = (150, 150), batch_size = 20, class_mode = \"binary\")\n",
    "\n",
    "valid_generator = test_datagen.flow_from_directory (valid_dir, target_size = (150, 150), batch_size = 20, class_mode = \"binary\")\n"
   ]
  },
  {
   "cell_type": "markdown",
   "id": "c8e4f3ec",
   "metadata": {},
   "source": [
    "### USING VGG16 CONV BASE"
   ]
  },
  {
   "cell_type": "code",
   "execution_count": 6,
   "id": "b0f396da",
   "metadata": {},
   "outputs": [],
   "source": [
    "from tensorflow.keras.applications import VGG16\n",
    "\n",
    "conv_base = VGG16 (weights = \"imagenet\", include_top = False, input_shape = (150, 150, 3))"
   ]
  },
  {
   "cell_type": "markdown",
   "id": "8ef0960b",
   "metadata": {},
   "source": [
    "### BUILDING TRANSFER LEARNING ACHITECTURE USING VGG16 CONV BASE"
   ]
  },
  {
   "cell_type": "code",
   "execution_count": 7,
   "id": "a8aedfc2",
   "metadata": {},
   "outputs": [
    {
     "name": "stdout",
     "output_type": "stream",
     "text": [
      "Model: \"sequential\"\n",
      "_________________________________________________________________\n",
      "Layer (type)                 Output Shape              Param #   \n",
      "=================================================================\n",
      "vgg16 (Functional)           (None, 4, 4, 512)         14714688  \n",
      "_________________________________________________________________\n",
      "flatten (Flatten)            (None, 8192)              0         \n",
      "_________________________________________________________________\n",
      "dense (Dense)                (None, 256)               2097408   \n",
      "_________________________________________________________________\n",
      "dense_1 (Dense)              (None, 1)                 257       \n",
      "=================================================================\n",
      "Total params: 16,812,353\n",
      "Trainable params: 16,812,353\n",
      "Non-trainable params: 0\n",
      "_________________________________________________________________\n"
     ]
    }
   ],
   "source": [
    "model = keras.models.Sequential ()\n",
    "model.add (conv_base)\n",
    "\n",
    "model.add (layers.Flatten())\n",
    "model.add (layers.Dense (256, activation = \"relu\"))\n",
    "model.add (layers.Dense (1, activation = \"sigmoid\"))\n",
    "model.summary ()"
   ]
  },
  {
   "cell_type": "markdown",
   "id": "6c57a64e",
   "metadata": {},
   "source": [
    "### TRAINING TRANSFER LEARNING MODEL"
   ]
  },
  {
   "cell_type": "code",
   "execution_count": 8,
   "id": "7b005055",
   "metadata": {},
   "outputs": [
    {
     "name": "stderr",
     "output_type": "stream",
     "text": [
      "C:\\Users\\USER\\anaconda3\\lib\\site-packages\\keras\\optimizer_v2\\optimizer_v2.py:355: UserWarning: The `lr` argument is deprecated, use `learning_rate` instead.\n",
      "  warnings.warn(\n",
      "C:\\Users\\USER\\anaconda3\\lib\\site-packages\\keras\\engine\\training.py:1972: UserWarning: `Model.fit_generator` is deprecated and will be removed in a future version. Please use `Model.fit`, which supports generators.\n",
      "  warnings.warn('`Model.fit_generator` is deprecated and '\n"
     ]
    },
    {
     "name": "stdout",
     "output_type": "stream",
     "text": [
      "100/100 [==============================] - 2644s 26s/step - loss: 0.5155 - acc: 0.7385 - val_loss: 0.2449 - val_acc: 0.8990\n"
     ]
    }
   ],
   "source": [
    "model.compile (loss = \"binary_crossentropy\", optimizer = keras.optimizers.RMSprop (lr = 0.00002), metrics = \"acc\")\n",
    "model_history = model.fit_generator (train_generator, steps_per_epoch = 100, epochs = 1, validation_data = validation_generator, validation_steps = 50)\n"
   ]
  },
  {
   "cell_type": "markdown",
   "id": "633ec457",
   "metadata": {},
   "source": [
    "PLOTTING TRAINED TRANSFER LEARNING MODEL PEFORMANCE"
   ]
  },
  {
   "cell_type": "code",
   "execution_count": 9,
   "id": "894aa1e5",
   "metadata": {},
   "outputs": [
    {
     "data": {
      "image/png": "[encoded data removed]",
      "text/plain": [
       "<Figure size 576x360 with 1 Axes>"
      ]
     },
     "metadata": {
      "needs_background": "light"
     },
     "output_type": "display_data"
    }
   ],
   "source": [
    "pd.DataFrame (model_history.history).plot (figsize = (8, 5))\n",
    "plt.gca().set_ylim (0, 1)\n",
    "plt.grid (True)\n",
    "plt.show ()"
   ]
  },
  {
   "cell_type": "markdown",
   "id": "57e9e210",
   "metadata": {},
   "source": [
    "EVALUATING TRANSFER LEARNING MODEL PERFOMANCE"
   ]
  },
  {
   "cell_type": "code",
   "execution_count": 10,
   "id": "d236ea14",
   "metadata": {},
   "outputs": [],
   "source": [
    "model.save (\"tranfer-learning-cat-dog-model.h5\")"
   ]
  },
  {
   "cell_type": "code",
   "execution_count": 11,
   "id": "fcd3d15a",
   "metadata": {},
   "outputs": [
    {
     "name": "stdout",
     "output_type": "stream",
     "text": [
      "Found 1000 images belonging to 2 classes.\n"
     ]
    },
    {
     "name": "stderr",
     "output_type": "stream",
     "text": [
      "C:\\Users\\USER\\anaconda3\\lib\\site-packages\\keras\\engine\\training.py:2006: UserWarning: `Model.evaluate_generator` is deprecated and will be removed in a future version. Please use `Model.evaluate`, which supports generators.\n",
      "  warnings.warn('`Model.evaluate_generator` is deprecated and '\n"
     ]
    },
    {
     "data": {
      "text/plain": [
       "[0.24839721620082855, 0.902999997138977]"
      ]
     },
     "execution_count": 11,
     "metadata": {},
     "output_type": "execute_result"
    }
   ],
   "source": [
    "test_generator = test_datagen.flow_from_directory (test_dir, batch_size = 20, target_size = (150, 150), class_mode = \"binary\")\n",
    "model.evaluate_generator (test_generator)\n",
    "#print (test_generator[0])\n",
    "#plt.imshow (test_generator)"
   ]
  },
  {
   "cell_type": "code",
   "execution_count": 41,
   "id": "d30d6690",
   "metadata": {
    "collapsed": true
   },
   "outputs": [
    {
     "name": "stdout",
     "output_type": "stream",
     "text": [
      "(1, 1, 1, 1)\n"
     ]
    },
    {
     "data": {
      "text/plain": [
       "{'cats': 0, 'dogs': 1}"
      ]
     },
     "execution_count": 41,
     "metadata": {},
     "output_type": "execute_result"
    }
   ],
   "source": [
    "arr = np.array ([[[[5]]]])\n",
    "print (arr.shape)\n",
    "test_generator.class_indices"
   ]
  },
  {
   "cell_type": "code",
   "execution_count": null,
   "id": "91b55574",
   "metadata": {},
   "outputs": [],
   "source": []
  },
  {
   "cell_type": "markdown",
   "id": "8525d17d",
   "metadata": {},
   "source": []
  },
  {
   "cell_type": "code",
   "execution_count": null,
   "id": "76f7f861",
   "metadata": {},
   "outputs": [],
   "source": []
  },
  {
   "cell_type": "code",
   "execution_count": null,
   "id": "ac0f8e19",
   "metadata": {},
   "outputs": [],
   "source": []
  },
  {
   "cell_type": "code",
   "execution_count": null,
   "id": "86c4dcce",
   "metadata": {},
   "outputs": [],
   "source": []
  },
  {
   "cell_type": "code",
   "execution_count": null,
   "id": "ee9588ce",
   "metadata": {},
   "outputs": [],
   "source": []
  },
  {
   "cell_type": "code",
   "execution_count": null,
   "id": "91554fd9",
   "metadata": {},
   "outputs": [],
   "source": []
  },
  {
   "cell_type": "code",
   "execution_count": null,
   "id": "dcf21925",
   "metadata": {},
   "outputs": [],
   "source": []
  },
  {
   "cell_type": "code",
   "execution_count": null,
   "id": "f1265285",
   "metadata": {},
   "outputs": [],
   "source": []
  }
 ],
 "metadata": {
  "kernelspec": {
   "display_name": "Python 3 (ipykernel)",
   "language": "python",
   "name": "python3"
  },
  "language_info": {
   "codemirror_mode": {
    "name": "ipython",
    "version": 3
   },
   "file_extension": ".py",
   "mimetype": "text/x-python",
   "name": "python",
   "nbconvert_exporter": "python",
   "pygments_lexer": "ipython3",
   "version": "3.9.7"
  }
 },
 "nbformat": 4,
 "nbformat_minor": 5
}
